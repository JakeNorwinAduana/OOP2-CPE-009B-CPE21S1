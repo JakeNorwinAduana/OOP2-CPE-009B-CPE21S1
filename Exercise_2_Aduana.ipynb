{
  "cells": [
    {
      "cell_type": "markdown",
      "metadata": {
        "id": "view-in-github",
        "colab_type": "text"
      },
      "source": [
        "<a href=\"https://colab.research.google.com/github/JakeNorwinAduana/OOP2-CPE-009B-CPE21S1/blob/main/Exercise_2_Aduana.ipynb\" target=\"_parent\"><img src=\"https://colab.research.google.com/assets/colab-badge.svg\" alt=\"Open In Colab\"/></a>"
      ]
    },
    {
      "cell_type": "markdown",
      "source": [
        "Whrite a program to determine if the grades are:\n",
        "\n",
        "1. grade >= 75,\"Passed\"\n",
        "2. grade == 74, \"Remidial\"\n",
        "3. grade < 74, \"Failed\"\n",
        "note: if grade is a negative number, it will not accepted"
      ],
      "metadata": {
        "id": "iD5OUIrBRLtE"
      }
    },
    {
      "cell_type": "code",
      "source": [
        "x = float(input(\"Input Grade:\"))\n",
        "if x >= 75 and x <= 100:\n",
        "  print(\"Passed\")\n",
        "elif x >= 74 and x <75:\n",
        "  print(\"Remedial\")\n",
        "elif x < 74 and x >=0:\n",
        "  print(\"Failed\")\n",
        "else:\n",
        "  print(\"Invalid input, try again.\")\n"
      ],
      "metadata": {
        "colab": {
          "base_uri": "https://localhost:8080/"
        },
        "id": "AbRfpRrsP9Js",
        "outputId": "269df75f-1027-4b01-c1fe-16639625c348"
      },
      "execution_count": 26,
      "outputs": [
        {
          "output_type": "stream",
          "name": "stdout",
          "text": [
            "Input Grade:-6\n",
            "Invalid input, try again.\n"
          ]
        }
      ]
    }
  ],
  "metadata": {
    "colab": {
      "toc_visible": true,
      "provenance": [],
      "include_colab_link": true
    },
    "kernelspec": {
      "display_name": "Python 3",
      "name": "python3"
    }
  },
  "nbformat": 4,
  "nbformat_minor": 0
}