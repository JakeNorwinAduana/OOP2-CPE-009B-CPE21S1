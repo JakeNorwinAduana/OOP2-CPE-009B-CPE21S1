{
  "cells": [
    {
      "cell_type": "markdown",
      "metadata": {
        "id": "view-in-github",
        "colab_type": "text"
      },
      "source": [
        "<a href=\"https://colab.research.google.com/github/JakeNorwinAduana/OOP2-CPE-009B-CPE21S1/blob/main/Exercise_4.ipynb\" target=\"_parent\"><img src=\"https://colab.research.google.com/assets/colab-badge.svg\" alt=\"Open In Colab\"/></a>"
      ]
    },
    {
      "cell_type": "code",
      "source": [
        "class foo:\n",
        "  def __init__(self,a,b):\n",
        "    self.a=a\n",
        "    self.b=b\n",
        "  def add(self):\n",
        "    return self.a+self.b\n",
        "foo_object=foo(3,4)\n",
        "foo_object.add()"
      ],
      "metadata": {
        "colab": {
          "base_uri": "https://localhost:8080/"
        },
        "id": "ew1LDIJpK2FP",
        "outputId": "4259092d-8882-4cd5-ca5a-419d7b23f62f"
      },
      "execution_count": 33,
      "outputs": [
        {
          "output_type": "execute_result",
          "data": {
            "text/plain": [
              "7"
            ]
          },
          "metadata": {},
          "execution_count": 33
        }
      ]
    },
    {
      "cell_type": "code",
      "source": [
        "class Counter:\n",
        "  def __init__(self):\n",
        "    self.current = 0\n",
        "\n",
        "  def increment(self):\n",
        "    self.current += 1\n",
        "\n",
        "  def value(self):\n",
        "    return self.current\n",
        "\n",
        "  def reset(self):\n",
        "    self.current = 0\n",
        "\n",
        "counter = Counter()\n",
        "counter.increment()\n",
        "counter.increment()\n",
        "counter.increment()\n",
        "print(counter.value())\n",
        "\n"
      ],
      "metadata": {
        "colab": {
          "base_uri": "https://localhost:8080/"
        },
        "id": "u1FjNaxnPGYW",
        "outputId": "ed1e420a-7402-4efa-9909-50b0218d093a"
      },
      "execution_count": 82,
      "outputs": [
        {
          "output_type": "stream",
          "name": "stdout",
          "text": [
            "3\n"
          ]
        }
      ]
    },
    {
      "cell_type": "code",
      "source": [
        "class RegularPolygon:\n",
        "  def __init__(self,side):\n",
        "    self.side = side\n",
        "class Square(RegularPolygon):\n",
        "  def area(self):\n",
        "    return self.side * self.side\n",
        "class EquilateralTriangle(RegularPolygon):\n",
        "  def area(self):\n",
        "    return self.side * self.side * 0.433\n",
        "\n",
        "square = Square(5)\n",
        "print(square)\n"
      ],
      "metadata": {
        "colab": {
          "base_uri": "https://localhost:8080/"
        },
        "id": "gqowuhHHRCVV",
        "outputId": "7d14d98e-c7d6-42d5-c060-109e767b1560"
      },
      "execution_count": 41,
      "outputs": [
        {
          "output_type": "stream",
          "name": "stdout",
          "text": [
            "<__main__.Square object at 0x7bbcd490f8b0>\n"
          ]
        }
      ]
    },
    {
      "cell_type": "code",
      "source": [
        "class person:\n",
        "  def __init__(self,name,age):\n",
        "    self.name=name\n",
        "    self.age=age\n",
        "  def display(self):\n",
        "    return (f'my name is  {self.name} and my age is {self.age}')\n",
        "\n",
        "x = person(\"john\",36)\n",
        "x.display()"
      ],
      "metadata": {
        "colab": {
          "base_uri": "https://localhost:8080/",
          "height": 35
        },
        "id": "C2ZOc4KQMhef",
        "outputId": "2ba0e474-bb1e-427a-8b82-e0a734d15041"
      },
      "execution_count": 32,
      "outputs": [
        {
          "output_type": "execute_result",
          "data": {
            "text/plain": [
              "'my name is  john and my age is 36'"
            ],
            "application/vnd.google.colaboratory.intrinsic+json": {
              "type": "string"
            }
          },
          "metadata": {},
          "execution_count": 32
        }
      ]
    },
    {
      "cell_type": "code",
      "source": [
        "#Application 1\n",
        "\n",
        "class Person:\n",
        "  def __init__(self, std1, std2, std3,pre,mid,fin):\n",
        "    self.std1=std1\n",
        "    self.std2=std2\n",
        "    self.std3=std3\n",
        "    self.pre = pre\n",
        "    self.mid = mid\n",
        "    self.fin = fin\n",
        "  def Grade(self):\n",
        "    return int(self.pre+self.mid+self.fin)/3\n",
        "\n",
        "std1=input(\"Enter name of student 1:\")\n",
        "student=Person(std1,\" \",\" \",70,80,90)\n",
        "print(f\"the average grades of {student.std1} is {student.Grade()}\")\n",
        "\n",
        "std2=input(\"Enter name of student 2:\")\n",
        "student2=Person(\" \",std2,\" \",90,77,88)\n",
        "print(f\"the average grades of {student2.std2} is {student2.Grade()}\")\n",
        "\n",
        "std3=input(\"Enter name of student 3:\")\n",
        "student3=Person(\" \",\" \", std3, 99,78,87)\n",
        "print(f\"the average grades of {student3.std3} is {student3.Grade()}\")\n"
      ],
      "metadata": {
        "colab": {
          "base_uri": "https://localhost:8080/"
        },
        "id": "CyU-YVT7Sagc",
        "outputId": "ae1c94dc-6ea3-4581-d35b-67937f523456"
      },
      "execution_count": 89,
      "outputs": [
        {
          "output_type": "stream",
          "name": "stdout",
          "text": [
            "Enter name of student 1:Jake\n",
            "the average grades of Jake is 80.0\n",
            "Enter name of student 2:Norwin\n",
            "the average grades of Norwin is 85.0\n",
            "Enter name of student 3:Aduana\n",
            "the average grades of Aduana is 88.0\n"
          ]
        }
      ]
    },
    {
      "cell_type": "code",
      "source": [],
      "metadata": {
        "id": "kt8_VAFUlvz9"
      },
      "execution_count": null,
      "outputs": []
    }
  ],
  "metadata": {
    "colab": {
      "toc_visible": true,
      "provenance": [],
      "include_colab_link": true
    },
    "kernelspec": {
      "display_name": "Python 3",
      "name": "python3"
    }
  },
  "nbformat": 4,
  "nbformat_minor": 0
}