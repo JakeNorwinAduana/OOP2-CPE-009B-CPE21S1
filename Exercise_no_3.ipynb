{
  "cells": [
    {
      "cell_type": "markdown",
      "metadata": {
        "id": "view-in-github",
        "colab_type": "text"
      },
      "source": [
        "<a href=\"https://colab.research.google.com/github/JakeNorwinAduana/OOP2-CPE-009B-CPE21S1/blob/main/Exercise_no_3.ipynb\" target=\"_parent\"><img src=\"https://colab.research.google.com/assets/colab-badge.svg\" alt=\"Open In Colab\"/></a>"
      ]
    },
    {
      "cell_type": "code",
      "source": [
        "#create a class\n",
        "\n",
        "class Myclass: #name of class\n",
        "  x=5           #property name"
      ],
      "metadata": {
        "id": "CrJSY7lVIM1-"
      },
      "execution_count": 3,
      "outputs": []
    },
    {
      "cell_type": "code",
      "source": [
        "class Car:\n",
        "  def __init__(self,name,color):\n",
        "    self.name = name\n",
        "    self.color = color\n",
        "\n",
        "  def description(self):\n",
        "    return f\"the {self.name} is color {self.color}\"\n",
        "\n",
        "#car = Car('toyota','red')\n",
        "#print(car.description())\n",
        "\n",
        "class Audi(Car):\n",
        "  pass\n",
        "class BMW(Car):\n",
        "  def audi_description(self):\n",
        "    return 'The description of this car is a BMW'\n",
        "\n",
        "bmw = BMW('BMW','black')\n",
        "print(bmw.description())\n",
        "print(bmw.audi_description())\n",
        "\n",
        "audi = Audi('Audi','white')\n",
        "print(audi.description())"
      ],
      "metadata": {
        "colab": {
          "base_uri": "https://localhost:8080/"
        },
        "id": "nxAeZR-qKC_R",
        "outputId": "a8c7e067-6994-4349-d111-514dea010875"
      },
      "execution_count": 2,
      "outputs": [
        {
          "output_type": "stream",
          "name": "stdout",
          "text": [
            "the BMW is color black\n",
            "The description of this car is a BMW\n",
            "the Audi is color white\n"
          ]
        }
      ]
    },
    {
      "cell_type": "code",
      "source": [
        "class Rectangle:\n",
        "  def __init__(self,length,width):\n",
        "    self.length = length\n",
        "    self.width = width\n",
        "\n",
        "  def area(self):\n",
        "    return self.length * self.width\n",
        "\n",
        "  def perimeter(self):\n",
        "    return 2 * (self.length + self.width)\n",
        "\n",
        "rectangle = Rectangle(5,4)\n",
        "print(rectangle.area())\n",
        "print(rectangle.perimeter())"
      ],
      "metadata": {
        "id": "U8BR5gd3tc87",
        "colab": {
          "base_uri": "https://localhost:8080/"
        },
        "outputId": "fcbb3603-94f2-4f63-9e73-f9aef4c11989"
      },
      "execution_count": 4,
      "outputs": [
        {
          "output_type": "stream",
          "name": "stdout",
          "text": [
            "20\n",
            "18\n"
          ]
        }
      ]
    }
  ],
  "metadata": {
    "colab": {
      "toc_visible": true,
      "provenance": [],
      "include_colab_link": true
    },
    "kernelspec": {
      "display_name": "Python 3",
      "name": "python3"
    }
  },
  "nbformat": 4,
  "nbformat_minor": 0
}