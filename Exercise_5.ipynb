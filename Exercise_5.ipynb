{
  "nbformat": 4,
  "nbformat_minor": 0,
  "metadata": {
    "colab": {
      "provenance": [],
      "authorship_tag": "ABX9TyOVe3ByFUEDHj2GXfvCFsp3",
      "include_colab_link": true
    },
    "kernelspec": {
      "name": "python3",
      "display_name": "Python 3"
    },
    "language_info": {
      "name": "python"
    }
  },
  "cells": [
    {
      "cell_type": "markdown",
      "metadata": {
        "id": "view-in-github",
        "colab_type": "text"
      },
      "source": [
        "<a href=\"https://colab.research.google.com/github/JakeNorwinAduana/OOP2-CPE-009B-CPE21S1/blob/main/Exercise_5.ipynb\" target=\"_parent\"><img src=\"https://colab.research.google.com/assets/colab-badge.svg\" alt=\"Open In Colab\"/></a>"
      ]
    },
    {
      "cell_type": "code",
      "execution_count": null,
      "metadata": {
        "colab": {
          "base_uri": "https://localhost:8080/"
        },
        "id": "IH18t_XxLeZz",
        "outputId": "9d63c052-de38-4806-e3ad-e48ce08f1a07"
      },
      "outputs": [
        {
          "output_type": "stream",
          "name": "stdout",
          "text": [
            "as a student, I do Studying, Playing, Watching\n",
            "as a teacher, I do Teaching, Socialize, Participating\n"
          ]
        }
      ],
      "source": [
        "class Person():\n",
        "  def __init__(self, name, age):\n",
        "    self.name = name\n",
        "    self.age = age\n",
        "\n",
        "\n",
        "class Student(Person):\n",
        "  def traits(self):\n",
        "    return ('Studying, Playing, Watching')\n",
        "\n",
        "class Teacher(Person):\n",
        "  def traits(self):\n",
        "    return ('Teaching, Socialize, Participating')\n",
        "\n",
        "student = Student('Ana', 20)\n",
        "teacher = Teacher('Maam Sayo', 41)\n",
        "\n",
        "print('as a student, I do', student.traits())\n",
        "print('as a teacher, I do', teacher.traits())"
      ]
    },
    {
      "cell_type": "code",
      "source": [
        "class Car():\n",
        "  def __init__(self, color, seats):\n",
        "    self.color = color\n",
        "    self.seat = seats\n",
        "\n",
        "class Audi(Car):\n",
        "  def traits(self):\n",
        "    return ('Audi')\n",
        "\n",
        "class BMW(Car):\n",
        "  def traits(self):\n",
        "    return ('BWM')\n",
        "\n",
        "class Toyota(Car):\n",
        "  def traits(self):\n",
        "    return ('Toyota')\n",
        "\n",
        "class Bus(Car):\n",
        "  def traits(self):\n",
        "    return ('Bus')\n",
        "\n",
        "audi = Audi('black', 5)\n",
        "bmw = BMW('white', 6)\n",
        "toyota = Toyota('red', 7)\n",
        "\n",
        "print(f\"The car\", audi.traits(), \"is\", audi.color, \"and has\", audi.seat, \"seats\")\n",
        "print(f\"The car\", bmw.traits(), \"is\", bmw.color, \"and has\", bmw.seat, \"seats\")\n",
        "print(f\"The car\", toyota.traits(), \"is\", toyota.color, \"and has\", toyota.seat, \"seats\")"
      ],
      "metadata": {
        "colab": {
          "base_uri": "https://localhost:8080/"
        },
        "id": "kLQRxBLRR9me",
        "outputId": "f6f2571e-48d2-4e9c-af82-9e27915b126d"
      },
      "execution_count": null,
      "outputs": [
        {
          "output_type": "stream",
          "name": "stdout",
          "text": [
            "The car Audi is black and has 5 seats\n",
            "The car BWM is white and has 6 seats\n",
            "The car Toyota is red and has 7 seats\n"
          ]
        }
      ]
    }
  ]
}