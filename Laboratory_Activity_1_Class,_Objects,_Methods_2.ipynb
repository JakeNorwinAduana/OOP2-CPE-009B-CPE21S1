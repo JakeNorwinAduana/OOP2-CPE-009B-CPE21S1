{
  "cells": [
    {
      "cell_type": "markdown",
      "metadata": {
        "id": "view-in-github",
        "colab_type": "text"
      },
      "source": [
        "<a href=\"https://colab.research.google.com/github/JakeNorwinAduana/OOP2-CPE-009B-CPE21S1/blob/main/Laboratory_Activity_1_Class%2C_Objects%2C_Methods_2.ipynb\" target=\"_parent\"><img src=\"https://colab.research.google.com/assets/colab-badge.svg\" alt=\"Open In Colab\"/></a>"
      ]
    },
    {
      "cell_type": "code",
      "source": [
        "\"\"\"\n",
        "  Accounts.py\n",
        "\"\"\"\n",
        "\n",
        "class Accounts():\n",
        "  def __init__(self, account_number, account_firstname, account_lastname, current_balance, adress, email):\n",
        "    self.account_number = account_number\n",
        "    self.account_firstname = account_firstname\n",
        "    self.account_lastname = account_lastname\n",
        "    self.current_balance = current_balance\n",
        "    self.adress = adress\n",
        "    self.email = email\n",
        "\n",
        "  def update_adress(self, new_adress):\n",
        "    self.adress = new_adress\n",
        "\n",
        "  def update_email(self, new_email):\n",
        "    self.email = new_email"
      ],
      "metadata": {
        "id": "vacB4a21Ywaw"
      },
      "execution_count": 19,
      "outputs": []
    },
    {
      "cell_type": "code",
      "source": [
        "\"\"\"\n",
        "  ATM.py\n",
        "\"\"\"\n",
        "\n",
        "class ATM():\n",
        "  serial_number = 0\n",
        "\n",
        "  def deposit(self, account, amount):\n",
        "    account.current_balance = account.current_balance + amount\n",
        "    print(\"Deposit Complete\")\n",
        "\n",
        "  def withdraw(self, account, amount):\n",
        "    account.current_balance = account.current_balance - amount\n",
        "    print(\"Withdraw Complete\")\n",
        "\n",
        "  def check_currentbalance(self, account):\n",
        "    print(account.current_balance)"
      ],
      "metadata": {
        "id": "luHmvj_cY0oQ"
      },
      "execution_count": 15,
      "outputs": []
    },
    {
      "cell_type": "code",
      "source": [
        "\"\"\"\n",
        "main.py\n",
        "\"\"\"\n",
        "\n",
        "from OOPintro_Aduana.Accounts import Accounts\n",
        "from OOPintro_Aduana.ATM import ATM\n",
        "\n",
        "\"\"\"\n",
        "Account1 = Accounts(account_number=123456,account_firstname=\"Royce\",account_lastname=\"Chua\",current_balance=1000,adress=\"Silver Street Quezon City\",email=\"roycechua@gmail.com\")\n",
        "\"\"\"\n",
        "\n",
        "\n",
        "print(\"Account 1\")\n",
        "Account1.account_firstname = \"Royce\"\n",
        "Account1.account_lastname = \"Chua\"\n",
        "Account1.current_balance = 1000\n",
        "Account1.adress = \"Silver Street Quezon City\"\n",
        "Account1.email = \"roycechua123@gmail.com\"\n",
        "\n",
        "\n",
        "print(Account1.account_firstname)\n",
        "print(Account1.account_lastname)\n",
        "print(Account1.current_balance)\n",
        "print(Account1.adress)\n",
        "print(Account1.email)\n",
        "\n",
        "print()\n",
        "\n",
        "\"\"\"\n",
        "Account2 = Accounts(account_number=654321,account_firstname=\"John\",account_lastname=\"Doe\",current_balance=2000,adress=\"Gold Street Quezon City\",email=\"johndoe@yahoo.com\")\n",
        "Account2.account_firstname = \"John\"\n",
        "Account2.account_lastname = \"Doe\"\n",
        "Account2.current_balance = 2000\n",
        "Account2.adress = \"Gold Street Aueazon City\"\n",
        "Account2.email = \"johndoe@yahoo.com\"\n",
        "\"\"\"\n",
        "\n",
        "\n",
        "print(\"Account 2\")\n",
        "print(Account2.account_firstname)\n",
        "print(Account2.account_lastname)\n",
        "print(Account2.current_balance)\n",
        "print(Account2.adress)\n",
        "print(Account2.email)\n",
        "\n",
        "\n",
        "# Creating and Using ATM Object\n",
        "ATM1 = ATM()\n",
        "ATM1.deposit(Account1, 500)\n",
        "ATM1.check_currentbalance(Account1)\n",
        "\n",
        "ATM1.deposit(Account2, 300)\n",
        "ATM1.check_currentbalance(Account2)"
      ],
      "metadata": {
        "colab": {
          "base_uri": "https://localhost:8080/"
        },
        "id": "Xq5YpSHRYfHZ",
        "outputId": "401d4c29-073d-4a4d-fd28-105dac6d4f4e"
      },
      "execution_count": 22,
      "outputs": [
        {
          "output_type": "stream",
          "name": "stdout",
          "text": [
            "Account 1\n",
            "Royce\n",
            "Chua\n",
            "1000\n",
            "Silver Street Quezon City\n",
            "roycechua123@gmail.com\n",
            "\n",
            "Account 2\n",
            "John\n",
            "Doe\n",
            "2600\n",
            "Gold Street Aueazon City\n",
            "johndoe@yahoo.com\n",
            "Deposit Complete\n",
            "1500\n",
            "Deposit Complete\n",
            "2900\n"
          ]
        }
      ]
    }
  ],
  "metadata": {
    "colab": {
      "provenance": [],
      "include_colab_link": true
    },
    "kernelspec": {
      "display_name": "Python 3",
      "name": "python3"
    }
  },
  "nbformat": 4,
  "nbformat_minor": 0
}